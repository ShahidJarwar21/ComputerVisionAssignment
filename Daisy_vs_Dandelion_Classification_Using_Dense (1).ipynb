{
 "cells": [
  {
   "cell_type": "code",
   "execution_count": 1,
   "metadata": {},
   "outputs": [],
   "source": [
    "import matplotlib.pyplot as plt \n",
    "import tensorflow as tf \n",
    "import os, shutil"
   ]
  },
  {
   "cell_type": "code",
   "execution_count": 2,
   "metadata": {},
   "outputs": [],
   "source": [
    "dataset = \"D:/PIAIC AI/KaggleDataset/flowers-recognition/flowers/Assignment\""
   ]
  },
  {
   "cell_type": "code",
   "execution_count": 3,
   "metadata": {},
   "outputs": [],
   "source": [
    "create_dir = \"D:/PIAIC AI/KaggleDataset/flowers-recognition/flowers/Assignment/Daisy_vs_Dandelion\"\n",
    "os.mkdir(create_dir)"
   ]
  },
  {
   "cell_type": "code",
   "execution_count": 4,
   "metadata": {},
   "outputs": [],
   "source": [
    "# Directories for the training, validation, and test splits\n",
    "\n",
    "train_dir = os.path.join(create_dir, 'train')\n",
    "os.mkdir(train_dir)\n",
    "\n",
    "validation_dir = os.path.join(create_dir, 'validation')\n",
    "os.mkdir(validation_dir)\n",
    "\n",
    "test_dir = os.path.join(create_dir, 'test')\n",
    "os.mkdir(test_dir)"
   ]
  },
  {
   "cell_type": "code",
   "execution_count": 5,
   "metadata": {},
   "outputs": [],
   "source": [
    "# Directory with training daisy pictures\n",
    "\n",
    "train_daisy_dir = os.path.join(train_dir, 'daisy')\n",
    "os.mkdir(train_daisy_dir)"
   ]
  },
  {
   "cell_type": "code",
   "execution_count": 6,
   "metadata": {},
   "outputs": [],
   "source": [
    "# Directory with training dandelion pictures\n",
    "\n",
    "train_dandelion_dir = os.path.join(train_dir, 'dandelion')\n",
    "os.mkdir(train_dandelion_dir)"
   ]
  },
  {
   "cell_type": "code",
   "execution_count": 7,
   "metadata": {},
   "outputs": [],
   "source": [
    "# Directory with validation daisy pictures\n",
    "\n",
    "validation_daisy_dir = os.path.join(validation_dir, 'daisy')\n",
    "os.mkdir(validation_daisy_dir)"
   ]
  },
  {
   "cell_type": "code",
   "execution_count": 12,
   "metadata": {},
   "outputs": [],
   "source": [
    "# Directory with validation dandelion pictures\n",
    "\n",
    "validation_dandelion_dir = os.path.join(validation_dir, 'dandelion')\n",
    "os.mkdir(validation_dandelion_dir)"
   ]
  },
  {
   "cell_type": "code",
   "execution_count": 8,
   "metadata": {},
   "outputs": [],
   "source": [
    "# Directory with test daisy pictures\n",
    "\n",
    "test_daisy_dir = os.path.join(test_dir, 'daisy')\n",
    "os.mkdir(test_daisy_dir)"
   ]
  },
  {
   "cell_type": "code",
   "execution_count": 9,
   "metadata": {},
   "outputs": [],
   "source": [
    "# Directory with test dandelion pictures\n",
    "\n",
    "test_dandelion_dir = os.path.join(test_dir, 'dandelion')\n",
    "os.mkdir(test_dandelion_dir)"
   ]
  },
  {
   "cell_type": "code",
   "execution_count": 10,
   "metadata": {},
   "outputs": [],
   "source": [
    "# Copies the first 400 daisy images to train_daisy_dir\n",
    "\n",
    "fnames = ['daisy.{}.jpg'.format(i) for i in range(1,401)]\n",
    "for fname in fnames:\n",
    "    src = os.path.join(dataset, fname)\n",
    "    dst = os.path.join(train_daisy_dir, fname)\n",
    "    shutil.copyfile(src, dst)\n",
    "    \n",
    "    \n",
    "# Copies the 150 daisy images to validation_daisy_dir\n",
    "fnames = ['daisy.{}.jpg'.format(i) for i in range(401, 551)]\n",
    "for fname in fnames:\n",
    "    src = os.path.join(dataset, fname)\n",
    "    dst = os.path.join(validation_daisy_dir, fname)\n",
    "    shutil.copyfile(src, dst)\n",
    "    \n",
    "    \n",
    "#  Copies the next 175 daisy images to test_daisy_dir\n",
    "\n",
    "fnames = ['daisy.{}.jpg'.format(i) for i in range(551, 701)]\n",
    "for fname in fnames:\n",
    "    src = os.path.join(dataset, fname)\n",
    "    dst = os.path.join(test_daisy_dir, fname)\n",
    "    shutil.copyfile(src, dst)"
   ]
  },
  {
   "cell_type": "code",
   "execution_count": 13,
   "metadata": {},
   "outputs": [],
   "source": [
    "# Copies the first 400 dandelion images to train_dandelion_dir\n",
    "\n",
    "fnames = ['dandelion.{}.jpg'.format(i) for i in range(1, 401)]\n",
    "for fname in fnames:\n",
    "    src = os.path.join(dataset, fname)\n",
    "    dst = os.path.join(train_dandelion_dir, fname)\n",
    "    shutil.copyfile(src, dst)\n",
    "    \n",
    "# Copies the next 150 dandelion images to validation_dandelion_dir    \n",
    "\n",
    "fnames = ['dandelion.{}.jpg'.format(i) for i in range(401, 551)]\n",
    "for fname in fnames:\n",
    "    src = os.path.join(dataset, fname)\n",
    "    dst = os.path.join(validation_dandelion_dir, fname)\n",
    "    shutil.copyfile(src, dst)\n",
    "    \n",
    "# Copies the next 150 dandelion images to test_dandelion_dir    \n",
    "\n",
    "fnames = ['dandelion.{}.jpg'.format(i) for i in range(551, 701) ]\n",
    "for fname in fnames:\n",
    "    src = os.path.join(dataset, fname)\n",
    "    dst = os.path.join(test_dandelion_dir, fname)\n",
    "    shutil.copyfile(src, dst)"
   ]
  },
  {
   "cell_type": "code",
   "execution_count": 14,
   "metadata": {},
   "outputs": [
    {
     "name": "stderr",
     "output_type": "stream",
     "text": [
      "Using TensorFlow backend.\n"
     ]
    },
    {
     "name": "stdout",
     "output_type": "stream",
     "text": [
      "Model: \"sequential_1\"\n",
      "_________________________________________________________________\n",
      "Layer (type)                 Output Shape              Param #   \n",
      "=================================================================\n",
      "dense_1 (Dense)              (None, 150, 150, 512)     2048      \n",
      "_________________________________________________________________\n",
      "flatten_1 (Flatten)          (None, 11520000)          0         \n",
      "_________________________________________________________________\n",
      "dense_2 (Dense)              (None, 1)                 11520001  \n",
      "=================================================================\n",
      "Total params: 11,522,049\n",
      "Trainable params: 11,522,049\n",
      "Non-trainable params: 0\n",
      "_________________________________________________________________\n"
     ]
    }
   ],
   "source": [
    "from keras import layers\n",
    "from keras import models\n",
    "\n",
    "model = models.Sequential()\n",
    "model.add(layers.Dense(512, activation='relu', input_shape=(150,150,3)))\n",
    "model.add(layers.Flatten())\n",
    "model.add(layers.Dense(1, activation='sigmoid'))\n",
    "\n",
    "model.summary()"
   ]
  },
  {
   "cell_type": "code",
   "execution_count": 15,
   "metadata": {},
   "outputs": [],
   "source": [
    "from keras import optimizers\n",
    "\n",
    "model.compile(loss='binary_crossentropy',\n",
    "              optimizer=optimizers.RMSprop(lr=1e-4),\n",
    "              metrics=['acc'])"
   ]
  },
  {
   "cell_type": "code",
   "execution_count": 16,
   "metadata": {},
   "outputs": [
    {
     "name": "stdout",
     "output_type": "stream",
     "text": [
      "Found 800 images belonging to 2 classes.\n",
      "Found 300 images belonging to 2 classes.\n"
     ]
    }
   ],
   "source": [
    "from keras.preprocessing.image import ImageDataGenerator\n",
    "\n",
    "train_datagen = ImageDataGenerator(rescale=1./255)\n",
    "test_datagen = ImageDataGenerator(rescale=1./255)\n",
    "\n",
    "train_generator = train_datagen.flow_from_directory(\n",
    "        train_dir,\n",
    "        target_size=(150, 150),\n",
    "        batch_size=20,\n",
    "        class_mode='binary')\n",
    "\n",
    "\n",
    "validation_generator = test_datagen.flow_from_directory(\n",
    "        validation_dir,\n",
    "         target_size=(150, 150),\n",
    "         batch_size=20,\n",
    "         class_mode='binary')"
   ]
  },
  {
   "cell_type": "code",
   "execution_count": null,
   "metadata": {},
   "outputs": [
    {
     "name": "stdout",
     "output_type": "stream",
     "text": [
      "Epoch 1/30\n",
      "100/100 [==============================] - 225s 2s/step - loss: 3.8979 - acc: 0.5360 - val_loss: 5.3603 - val_acc: 0.4980\n",
      "Epoch 2/30\n",
      "100/100 [==============================] - 213s 2s/step - loss: 2.0001 - acc: 0.6050 - val_loss: 0.3553 - val_acc: 0.6640\n",
      "Epoch 3/30\n",
      "100/100 [==============================] - 211s 2s/step - loss: 1.1456 - acc: 0.6765 - val_loss: 1.7385 - val_acc: 0.5890\n",
      "Epoch 4/30\n",
      "100/100 [==============================] - 211s 2s/step - loss: 0.7197 - acc: 0.7565 - val_loss: 1.4085 - val_acc: 0.6700\n",
      "Epoch 5/30\n",
      "100/100 [==============================] - 215s 2s/step - loss: 0.4839 - acc: 0.8235 - val_loss: 1.5605 - val_acc: 0.5630\n",
      "Epoch 6/30\n",
      "100/100 [==============================] - 215s 2s/step - loss: 0.3423 - acc: 0.8755 - val_loss: 0.8541 - val_acc: 0.6870\n",
      "Epoch 7/30\n",
      "100/100 [==============================] - 212s 2s/step - loss: 0.2398 - acc: 0.9240 - val_loss: 1.6263 - val_acc: 0.5680\n",
      "Epoch 8/30\n",
      "100/100 [==============================] - 211s 2s/step - loss: 0.1888 - acc: 0.9460 - val_loss: 1.0042 - val_acc: 0.6650\n",
      "Epoch 9/30\n",
      "100/100 [==============================] - 216s 2s/step - loss: 0.1587 - acc: 0.9570 - val_loss: 1.0130 - val_acc: 0.5960\n",
      "Epoch 10/30\n",
      "100/100 [==============================] - 218s 2s/step - loss: 0.1104 - acc: 0.9690 - val_loss: 1.0693 - val_acc: 0.6680\n",
      "Epoch 11/30\n",
      "100/100 [==============================] - 218s 2s/step - loss: 0.0845 - acc: 0.9785 - val_loss: 0.7305 - val_acc: 0.6560\n",
      "Epoch 12/30\n",
      "100/100 [==============================] - 218s 2s/step - loss: 0.0748 - acc: 0.9805 - val_loss: 1.9451 - val_acc: 0.5330\n",
      "Epoch 13/30\n",
      "100/100 [==============================] - 218s 2s/step - loss: 0.0678 - acc: 0.9855 - val_loss: 1.0023 - val_acc: 0.6670\n",
      "Epoch 14/30\n",
      "100/100 [==============================] - 217s 2s/step - loss: 0.0770 - acc: 0.9825 - val_loss: 0.2634 - val_acc: 0.6470\n",
      "Epoch 15/30\n",
      "100/100 [==============================] - 218s 2s/step - loss: 0.0441 - acc: 0.9915 - val_loss: 0.8836 - val_acc: 0.6790\n",
      "Epoch 16/30\n",
      "100/100 [==============================] - 219s 2s/step - loss: 0.0430 - acc: 0.9835 - val_loss: 1.3355 - val_acc: 0.6480\n",
      "Epoch 17/30\n",
      "100/100 [==============================] - 218s 2s/step - loss: 0.0341 - acc: 0.9900 - val_loss: 1.7705 - val_acc: 0.6510\n",
      "Epoch 18/30\n",
      "100/100 [==============================] - 218s 2s/step - loss: 0.0501 - acc: 0.9900 - val_loss: 1.4392 - val_acc: 0.6950\n",
      "Epoch 19/30\n",
      "100/100 [==============================] - 1937s 19s/step - loss: 0.0212 - acc: 0.9950 - val_loss: 0.8696 - val_acc: 0.6790\n",
      "Epoch 20/30\n",
      "100/100 [==============================] - 211s 2s/step - loss: 0.0292 - acc: 0.9925 - val_loss: 1.5205 - val_acc: 0.6530\n",
      "Epoch 21/30\n",
      "100/100 [==============================] - 212s 2s/step - loss: 0.0106 - acc: 0.9965 - val_loss: 0.6912 - val_acc: 0.6740\n",
      "Epoch 22/30\n",
      "100/100 [==============================] - 213s 2s/step - loss: 0.0358 - acc: 0.9895 - val_loss: 1.1039 - val_acc: 0.6440\n",
      "Epoch 23/30\n",
      "100/100 [==============================] - 214s 2s/step - loss: 0.0125 - acc: 0.9960 - val_loss: 2.1116 - val_acc: 0.6580\n",
      "Epoch 24/30\n",
      "100/100 [==============================] - 213s 2s/step - loss: 0.0200 - acc: 0.9940 - val_loss: 0.9527 - val_acc: 0.6590\n",
      "Epoch 25/30\n",
      "100/100 [==============================] - 213s 2s/step - loss: 0.0198 - acc: 0.9930 - val_loss: 0.9425 - val_acc: 0.6610\n",
      "Epoch 26/30\n",
      "100/100 [==============================] - 213s 2s/step - loss: 0.0368 - acc: 0.9915 - val_loss: 1.3252 - val_acc: 0.6520\n",
      "Epoch 27/30\n",
      "100/100 [==============================] - 214s 2s/step - loss: 0.0087 - acc: 0.9965 - val_loss: 2.6564 - val_acc: 0.6490\n",
      "Epoch 28/30\n",
      " 88/100 [=========================>....] - ETA: 1:11 - loss: 0.0113 - acc: 0.9966"
     ]
    }
   ],
   "source": [
    "history = model.fit_generator(\n",
    "        train_generator,\n",
    "        steps_per_epoch=100,\n",
    "        epochs=30,\n",
    "        validation_data=validation_generator,\n",
    "        validation_steps=50)"
   ]
  },
  {
   "cell_type": "code",
   "execution_count": null,
   "metadata": {},
   "outputs": [],
   "source": [
    "# Saving the model\n",
    "\n",
    "model.save('rose_vs_sunflower_using_ann.h5')"
   ]
  },
  {
   "cell_type": "code",
   "execution_count": null,
   "metadata": {},
   "outputs": [],
   "source": [
    "# Displaying curves of loss and accuracy during training\n",
    "\n",
    "import matplotlib.pyplot as plt\n",
    "\n",
    "acc = history.history['acc']\n",
    "val_acc = history.history['val_acc']\n",
    "loss = history.history['loss']\n",
    "val_loss = history.history['val_loss']\n",
    "epochs = range(1, len(acc) + 1)\n",
    "plt.plot(epochs, acc, 'bo', label='Training acc')\n",
    "plt.plot(epochs, val_acc, 'b', label='Validation acc')\n",
    "plt.title('Training and validation accuracy')\n",
    "plt.legend()\n",
    "plt.figure()\n",
    "plt.plot(epochs, loss, 'bo', label='Training loss')\n",
    "plt.plot(epochs, val_loss, 'b', label='Validation loss')\n",
    "plt.title('Training and validation loss')\n",
    "plt.legend()\n",
    "plt.show()\n",
    "\n",
    "\n",
    "# These plots are characteristic of overfitting."
   ]
  },
  {
   "cell_type": "code",
   "execution_count": null,
   "metadata": {},
   "outputs": [],
   "source": []
  }
 ],
 "metadata": {
  "kernelspec": {
   "display_name": "Python 3",
   "language": "python",
   "name": "python3"
  },
  "language_info": {
   "codemirror_mode": {
    "name": "ipython",
    "version": 3
   },
   "file_extension": ".py",
   "mimetype": "text/x-python",
   "name": "python",
   "nbconvert_exporter": "python",
   "pygments_lexer": "ipython3",
   "version": "3.7.4"
  }
 },
 "nbformat": 4,
 "nbformat_minor": 2
}
